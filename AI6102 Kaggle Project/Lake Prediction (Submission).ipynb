{
 "cells": [
  {
   "cell_type": "code",
   "execution_count": 1,
   "id": "8e6cb247",
   "metadata": {},
   "outputs": [],
   "source": [
    "import pandas as pd\n",
    "from sklearn.model_selection import train_test_split, cross_val_score\n",
    "from sklearn.preprocessing import StandardScaler\n",
    "from sklearn.linear_model import LogisticRegression\n",
    "from sklearn.ensemble import RandomForestClassifier\n",
    "from sklearn.metrics import f1_score, make_scorer\n",
    "from tensorflow.keras.models import Sequential\n",
    "from tensorflow.keras.layers import Dense\n",
    "from tensorflow.keras.optimizers import Adam\n",
    "from sklearn.model_selection import StratifiedKFold\n"
   ]
  },
  {
   "cell_type": "code",
   "execution_count": 2,
   "id": "f9c01c9d",
   "metadata": {},
   "outputs": [],
   "source": [
    "# Load data\n",
    "train_df = pd.read_csv('train.csv')\n",
    "test_df = pd.read_csv('test.csv')"
   ]
  },
  {
   "cell_type": "code",
   "execution_count": 3,
   "id": "64dabc82",
   "metadata": {},
   "outputs": [],
   "source": [
    "# Separate features and target\n",
    "X_train = train_df.drop(['Human Waste'], axis=1)\n",
    "y_train = train_df['Human Waste']\n",
    "X_test = test_df"
   ]
  },
  {
   "cell_type": "code",
   "execution_count": 4,
   "id": "8cb58ba7",
   "metadata": {},
   "outputs": [],
   "source": [
    "# Preprocess data\n",
    "scaler = StandardScaler()\n",
    "X_train_scaled = scaler.fit_transform(X_train)\n",
    "X_test_scaled = scaler.transform(X_test)"
   ]
  },
  {
   "cell_type": "code",
   "execution_count": 5,
   "id": "ca73b2b8",
   "metadata": {},
   "outputs": [],
   "source": [
    "# Define models\n",
    "models = []\n",
    "\n",
    "# Logistic Regression\n",
    "lr_model = LogisticRegression(max_iter=1000)\n",
    "models.append(('Logistic Regression', lr_model))\n",
    "\n",
    "# Random Forest\n",
    "rf_model = RandomForestClassifier(n_estimators=100, random_state=42)\n",
    "models.append(('Random Forest', rf_model))\n",
    "\n",
    "# 2-layer FNN\n",
    "model_2_layer = Sequential([\n",
    "    Dense(64, activation='relu', input_shape=(X_train_scaled.shape[1],)),\n",
    "    Dense(1, activation='sigmoid')\n",
    "])\n",
    "model_2_layer.compile(optimizer=Adam(learning_rate=0.001),\n",
    "                      loss='binary_crossentropy',\n",
    "                      metrics=['accuracy'])\n",
    "models.append(('2-layer FNN', model_2_layer))\n",
    "\n",
    "# 3-layer FNN\n",
    "model_3_layer = Sequential([\n",
    "    Dense(64, activation='relu', input_shape=(X_train_scaled.shape[1],)),\n",
    "    Dense(32, activation='relu'),\n",
    "    Dense(1, activation='sigmoid')\n",
    "])\n",
    "model_3_layer.compile(optimizer=Adam(learning_rate=0.001),\n",
    "                      loss='binary_crossentropy',\n",
    "                      metrics=['accuracy'])\n",
    "models.append(('3-layer FNN', model_3_layer))\n",
    "\n",
    "# 4-layer FNN\n",
    "model_4_layer = Sequential([\n",
    "    Dense(64, activation='relu', input_shape=(X_train_scaled.shape[1],)),\n",
    "    Dense(32, activation='relu'),\n",
    "    Dense(16, activation='relu'),\n",
    "    Dense(1, activation='sigmoid')\n",
    "])\n",
    "model_4_layer.compile(optimizer=Adam(learning_rate=0.001),\n",
    "                      loss='binary_crossentropy',\n",
    "                      metrics=['accuracy'])\n",
    "models.append(('4-layer FNN', model_4_layer))"
   ]
  },
  {
   "cell_type": "code",
   "execution_count": 6,
   "id": "f0bca81e",
   "metadata": {},
   "outputs": [
    {
     "name": "stdout",
     "output_type": "stream",
     "text": [
      "Logistic Regression: Cross-validated F1 score = 0.875\n",
      "Random Forest: Cross-validated F1 score = 0.911\n",
      "41/41 [==============================] - 0s 946us/step\n",
      "41/41 [==============================] - 0s 808us/step\n",
      "41/41 [==============================] - 0s 890us/step\n",
      "41/41 [==============================] - 0s 779us/step\n",
      "41/41 [==============================] - 0s 1ms/step\n",
      "2-layer FNN: Cross-validated F1 score = 0.965\n",
      "41/41 [==============================] - 0s 854us/step\n",
      "41/41 [==============================] - 0s 1ms/step\n",
      "41/41 [==============================] - 0s 867us/step\n",
      "41/41 [==============================] - 0s 688us/step\n",
      "41/41 [==============================] - 0s 718us/step\n",
      "3-layer FNN: Cross-validated F1 score = 0.992\n",
      "41/41 [==============================] - 0s 1ms/step\n",
      "41/41 [==============================] - 0s 838us/step\n",
      "41/41 [==============================] - 0s 1ms/step\n",
      "41/41 [==============================] - 0s 1ms/step\n",
      "41/41 [==============================] - 0s 688us/step\n",
      "4-layer FNN: Cross-validated F1 score = 0.997\n",
      "\n",
      "Best model: 4-layer FNN\n",
      "Cross-validated F1 score: 0.997\n"
     ]
    }
   ],
   "source": [
    "# Evaluate models using cross-validation\n",
    "best_model = None\n",
    "best_f1 = 0\n",
    "best_model_name = ''\n",
    "\n",
    "for name, model in models:\n",
    "    if 'FNN' in name:\n",
    "        scores = []\n",
    "        for _ in range(5):\n",
    "            model.fit(X_train_scaled, y_train, epochs=50, batch_size=32, verbose=0)\n",
    "            y_pred = (model.predict(X_train_scaled) > 0.5).astype(int)\n",
    "            score = f1_score(y_train, y_pred)\n",
    "            scores.append(score)\n",
    "        mean_f1 = sum(scores) / len(scores)\n",
    "    else:\n",
    "        f1_scorer = make_scorer(f1_score)\n",
    "        scores = cross_val_score(model, X_train_scaled, y_train, cv=5, scoring=f1_scorer)\n",
    "        mean_f1 = scores.mean()\n",
    "    \n",
    "    print(f'{name}: Cross-validated F1 score = {mean_f1:.3f}')\n",
    "    \n",
    "    if mean_f1 > best_f1:\n",
    "        best_f1 = mean_f1\n",
    "        best_model = model\n",
    "        best_model_name = name\n",
    "\n",
    "print(f'\\nBest model: {best_model_name}')\n",
    "print(f'Cross-validated F1 score: {best_f1:.3f}')"
   ]
  },
  {
   "cell_type": "code",
   "execution_count": 7,
   "id": "1601c1ed",
   "metadata": {},
   "outputs": [],
   "source": [
    "# Train the best model on the full training set\n",
    "if 'FNN' in best_model_name:\n",
    "    best_model.fit(X_train_scaled, y_train, epochs=50, batch_size=32, verbose=0)\n",
    "else:\n",
    "    best_model.fit(X_train_scaled, y_train)"
   ]
  },
  {
   "cell_type": "code",
   "execution_count": 8,
   "id": "0eb88dd5",
   "metadata": {},
   "outputs": [
    {
     "name": "stdout",
     "output_type": "stream",
     "text": [
      "27/27 [==============================] - 0s 1ms/step\n"
     ]
    }
   ],
   "source": [
    "# Make predictions on the test set\n",
    "if 'FNN' in best_model_name:\n",
    "    y_pred = (best_model.predict(X_test_scaled) > 0.5).astype(int)\n",
    "else:\n",
    "    y_pred = best_model.predict(X_test_scaled)"
   ]
  },
  {
   "cell_type": "code",
   "execution_count": 9,
   "id": "be194d80",
   "metadata": {},
   "outputs": [
    {
     "name": "stdout",
     "output_type": "stream",
     "text": [
      "Predictions from 4-layer FNN saved to submission.csv\n"
     ]
    }
   ],
   "source": [
    "# Save predictions from the best model\n",
    "submission_df = pd.DataFrame({'Human Waste': y_pred.flatten()})\n",
    "submission_df.to_csv('submission.csv', index_label='Index')\n",
    "\n",
    "print(f'Predictions from {best_model_name} saved to submission.csv')"
   ]
  }
 ],
 "metadata": {
  "kernelspec": {
   "display_name": "Python 3 (ipykernel)",
   "language": "python",
   "name": "python3"
  },
  "language_info": {
   "codemirror_mode": {
    "name": "ipython",
    "version": 3
   },
   "file_extension": ".py",
   "mimetype": "text/x-python",
   "name": "python",
   "nbconvert_exporter": "python",
   "pygments_lexer": "ipython3",
   "version": "3.11.4"
  }
 },
 "nbformat": 4,
 "nbformat_minor": 5
}
